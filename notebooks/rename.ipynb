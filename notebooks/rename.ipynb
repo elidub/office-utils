{
 "cells": [
  {
   "cell_type": "code",
   "execution_count": 3,
   "metadata": {},
   "outputs": [
    {
     "name": "stdout",
     "output_type": "stream",
     "text": [
      "C:\\Users\\elias\\Mijn Drive\\Synced Vault\\Spaces\\Study\\KRR\n",
      "['Cheatsheets', 'KRR Home.md', 'Lectures', 'Logic definitions.md', 'Notes.md']\n",
      "Renaming Logic definitions.md to KRR Logic definitions.md\n",
      "Renaming Notes.md to KRR Notes.md\n",
      "Renaming First-order Logic (FOL).md to KRR First-order Logic (FOL).md\n",
      "Renaming General.md to KRR General.md\n",
      "Renaming Logic Programming.md to KRR Logic Programming.md\n",
      "Renaming Propositional Logic (PL).md to KRR Propositional Logic (PL).md\n",
      "Renaming Exercise 01.md to KRR Exercise 01.md\n",
      "Renaming Exercise 02.md to KRR Exercise 02.md\n",
      "Renaming Exercise 03.md to KRR Exercise 03.md\n",
      "Renaming Lecture 01.md to KRR Lecture 01.md\n",
      "Renaming Lecture 05.md to KRR Lecture 05.md\n",
      "Renaming Lecture 06.md to KRR Lecture 06.md\n",
      "Renaming Lecture 08.md to KRR Lecture 08.md\n",
      "Renaming Lecture 09.md to KRR Lecture 09.md\n",
      "Renaming Lecture 10.md to KRR Lecture 10.md\n",
      "Renaming Lecture 11.md to KRR Lecture 11.md\n"
     ]
    }
   ],
   "source": [
    "import os\n",
    "\n",
    "# Get the current directory\n",
    "dir_path = os.getcwd()\n",
    "\n",
    "home_path = os.path.expanduser('~')\n",
    "\n",
    "path = os.path.join(home_path, 'Mijn Drive\\Synced Vault\\Spaces\\Study\\KRR')\n",
    "\n",
    "print(path)\n",
    "print(os.listdir(path))\n",
    "\n",
    "# Loop through all files and directories in the current directory\n",
    "for root, dirs, files in os.walk(path):\n",
    "    for filename in files:\n",
    "        # Check if filename doesn't already start with \"KRR \"\n",
    "        if not filename.startswith(\"KRR \"):\n",
    "            # Add \"KRR \" to the beginning of the filename\n",
    "            new_filename = \"KRR \" + filename\n",
    "            print(\"Renaming \" + filename + \" to \" + new_filename)\n",
    "            # Rename the file with the new filename\n",
    "            os.rename(os.path.join(root, filename), os.path.join(root, new_filename))\n"
   ]
  }
 ],
 "metadata": {
  "kernelspec": {
   "display_name": "office-utils",
   "language": "python",
   "name": "python3"
  },
  "language_info": {
   "codemirror_mode": {
    "name": "ipython",
    "version": 3
   },
   "file_extension": ".py",
   "mimetype": "text/x-python",
   "name": "python",
   "nbconvert_exporter": "python",
   "pygments_lexer": "ipython3",
   "version": "3.11.0"
  },
  "orig_nbformat": 4
 },
 "nbformat": 4,
 "nbformat_minor": 2
}
