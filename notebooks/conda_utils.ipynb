{
 "cells": [
  {
   "cell_type": "code",
   "execution_count": 1,
   "metadata": {},
   "outputs": [],
   "source": [
    "import os\n",
    "import subprocess"
   ]
  },
  {
   "cell_type": "code",
   "execution_count": 2,
   "metadata": {},
   "outputs": [
    {
     "name": "stdout",
     "output_type": "stream",
     "text": [
      "['anaconda3', 'fsh', 'klm', 'sympde']\n"
     ]
    }
   ],
   "source": [
    "def conda_list():\n",
    "    env_list = subprocess.check_output(['conda', 'env', 'list', '--json']).decode('utf-8')\n",
    "    env_list = eval(env_list)['envs']\n",
    "\n",
    "    env_list = [os.path.basename(env) for env in env_list]\n",
    "    return env_list\n",
    "\n",
    "def remove_envs(envs_to_remove):\n",
    "    for env in envs_to_remove:\n",
    "        try:\n",
    "            subprocess.run(['conda', 'env', 'remove', '--name', env, '--yes'])\n",
    "            print(f\"Environment '{env}' deleted.\")\n",
    "        except subprocess.CalledProcessError as e:\n",
    "            print(f\"Error deleting environment '{env}': {e}\")\n",
    "\n",
    "print(conda_list())\n",
    "# envs_to_remove = ['chatgpdanny', 'ethias2', 'fso', 'goudse', 'goudse-test', 'ml2labls', 'ribfrac', 'sympde9']\n",
    "# remove_envs(envs_to_remove)"
   ]
  }
 ],
 "metadata": {
  "kernelspec": {
   "display_name": "Python 3",
   "language": "python",
   "name": "python3"
  },
  "language_info": {
   "codemirror_mode": {
    "name": "ipython",
    "version": 3
   },
   "file_extension": ".py",
   "mimetype": "text/x-python",
   "name": "python",
   "nbconvert_exporter": "python",
   "pygments_lexer": "ipython3",
   "version": "3.11.4"
  }
 },
 "nbformat": 4,
 "nbformat_minor": 2
}
