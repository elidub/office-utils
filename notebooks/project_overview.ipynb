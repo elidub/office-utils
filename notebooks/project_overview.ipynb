{
 "cells": [
  {
   "cell_type": "code",
   "execution_count": 1,
   "metadata": {},
   "outputs": [
    {
     "data": {
      "text/plain": [
       "'/Users/elias/EliasMBA/Projects'"
      ]
     },
     "execution_count": 1,
     "metadata": {},
     "output_type": "execute_result"
    }
   ],
   "source": [
    "import os\n",
    "import pandas as pd\n",
    "import subprocess\n",
    "\n",
    "dir = os.path.join(os.path.expanduser('~'), 'EliasMBA', 'Projects')\n",
    "dir"
   ]
  },
  {
   "cell_type": "code",
   "execution_count": 2,
   "metadata": {},
   "outputs": [
    {
     "data": {
      "text/plain": [
       "['Personal', 'Bit', 'Uni']"
      ]
     },
     "execution_count": 2,
     "metadata": {},
     "output_type": "execute_result"
    }
   ],
   "source": [
    "folders = [f for f in os.listdir(dir) if os.path.isdir(os.path.join(dir, f)) and not f.startswith('.')]\n",
    "folders"
   ]
  },
  {
   "cell_type": "code",
   "execution_count": 6,
   "metadata": {},
   "outputs": [
    {
     "data": {
      "text/html": [
       "<div>\n",
       "<style scoped>\n",
       "    .dataframe tbody tr th:only-of-type {\n",
       "        vertical-align: middle;\n",
       "    }\n",
       "\n",
       "    .dataframe tbody tr th {\n",
       "        vertical-align: top;\n",
       "    }\n",
       "\n",
       "    .dataframe thead th {\n",
       "        text-align: right;\n",
       "    }\n",
       "</style>\n",
       "<table border=\"1\" class=\"dataframe\">\n",
       "  <thead>\n",
       "    <tr style=\"text-align: right;\">\n",
       "      <th></th>\n",
       "      <th>folder</th>\n",
       "      <th>project</th>\n",
       "    </tr>\n",
       "  </thead>\n",
       "  <tbody>\n",
       "    <tr>\n",
       "      <th>0</th>\n",
       "      <td>Personal</td>\n",
       "      <td>office-utils</td>\n",
       "    </tr>\n",
       "    <tr>\n",
       "      <th>1</th>\n",
       "      <td>Bit</td>\n",
       "      <td>klm-maintenanceassistant</td>\n",
       "    </tr>\n",
       "    <tr>\n",
       "      <th>2</th>\n",
       "      <td>Bit</td>\n",
       "      <td>alcohollock-prototype</td>\n",
       "    </tr>\n",
       "    <tr>\n",
       "      <th>3</th>\n",
       "      <td>Uni</td>\n",
       "      <td>Mathematica</td>\n",
       "    </tr>\n",
       "    <tr>\n",
       "      <th>4</th>\n",
       "      <td>Uni</td>\n",
       "      <td>SymPDE</td>\n",
       "    </tr>\n",
       "  </tbody>\n",
       "</table>\n",
       "</div>"
      ],
      "text/plain": [
       "     folder                   project\n",
       "0  Personal              office-utils\n",
       "1       Bit  klm-maintenanceassistant\n",
       "2       Bit     alcohollock-prototype\n",
       "3       Uni               Mathematica\n",
       "4       Uni                    SymPDE"
      ]
     },
     "execution_count": 6,
     "metadata": {},
     "output_type": "execute_result"
    }
   ],
   "source": [
    "data = []\n",
    "for folder in folders:\n",
    "    for project in os.listdir(os.path.join(dir, folder)):\n",
    "        if not project.startswith('.'):\n",
    "            data.append({'folder': folder, 'project': project})\n",
    "\n",
    "df = pd.DataFrame(data)\n",
    "df"
   ]
  },
  {
   "cell_type": "code",
   "execution_count": 8,
   "metadata": {},
   "outputs": [
    {
     "name": "stderr",
     "output_type": "stream",
     "text": [
      "fatal: not a git repository (or any of the parent directories): .git\n"
     ]
    },
    {
     "data": {
      "text/html": [
       "<div>\n",
       "<style scoped>\n",
       "    .dataframe tbody tr th:only-of-type {\n",
       "        vertical-align: middle;\n",
       "    }\n",
       "\n",
       "    .dataframe tbody tr th {\n",
       "        vertical-align: top;\n",
       "    }\n",
       "\n",
       "    .dataframe thead th {\n",
       "        text-align: right;\n",
       "    }\n",
       "</style>\n",
       "<table border=\"1\" class=\"dataframe\">\n",
       "  <thead>\n",
       "    <tr style=\"text-align: right;\">\n",
       "      <th></th>\n",
       "      <th>folder</th>\n",
       "      <th>project</th>\n",
       "      <th>status</th>\n",
       "    </tr>\n",
       "  </thead>\n",
       "  <tbody>\n",
       "    <tr>\n",
       "      <th>0</th>\n",
       "      <td>Personal</td>\n",
       "      <td>office-utils</td>\n",
       "      <td>On branch main\\nYour branch is up to date with...</td>\n",
       "    </tr>\n",
       "    <tr>\n",
       "      <th>1</th>\n",
       "      <td>Bit</td>\n",
       "      <td>klm-maintenanceassistant</td>\n",
       "      <td>On branch feature/transcript_processor_datadir...</td>\n",
       "    </tr>\n",
       "    <tr>\n",
       "      <th>2</th>\n",
       "      <td>Bit</td>\n",
       "      <td>alcohollock-prototype</td>\n",
       "      <td>On branch analysis/analysis_elias\\nYour branch...</td>\n",
       "    </tr>\n",
       "    <tr>\n",
       "      <th>3</th>\n",
       "      <td>Uni</td>\n",
       "      <td>Mathematica</td>\n",
       "      <td></td>\n",
       "    </tr>\n",
       "    <tr>\n",
       "      <th>4</th>\n",
       "      <td>Uni</td>\n",
       "      <td>SymPDE</td>\n",
       "      <td>On branch main\\nYour branch is up to date with...</td>\n",
       "    </tr>\n",
       "  </tbody>\n",
       "</table>\n",
       "</div>"
      ],
      "text/plain": [
       "     folder                   project  \\\n",
       "0  Personal              office-utils   \n",
       "1       Bit  klm-maintenanceassistant   \n",
       "2       Bit     alcohollock-prototype   \n",
       "3       Uni               Mathematica   \n",
       "4       Uni                    SymPDE   \n",
       "\n",
       "                                              status  \n",
       "0  On branch main\\nYour branch is up to date with...  \n",
       "1  On branch feature/transcript_processor_datadir...  \n",
       "2  On branch analysis/analysis_elias\\nYour branch...  \n",
       "3                                                     \n",
       "4  On branch main\\nYour branch is up to date with...  "
      ]
     },
     "execution_count": 8,
     "metadata": {},
     "output_type": "execute_result"
    }
   ],
   "source": [
    "for index, row in df.iterrows():\n",
    "    folder, project = row['folder'], row['project']\n",
    "    os.chdir(os.path.join(dir, folder, project))\n",
    "    response = os.popen('git status --ignored').read()\n",
    "    df.at[index, 'status'] = response\n",
    "df"
   ]
  },
  {
   "cell_type": "code",
   "execution_count": 9,
   "metadata": {},
   "outputs": [
    {
     "name": "stdout",
     "output_type": "stream",
     "text": [
      "On branch feature/transcript_processor_datadir\n",
      "Your branch is up to date with 'origin/feature/transcript_processor_datadir'.\n",
      "\n",
      "Untracked files:\n",
      "  (use \"git add <file>...\" to include in what will be committed)\n",
      "\tbackend/src/processor2.py\n",
      "\n",
      "Ignored files:\n",
      "  (use \"git add -f <file>...\" to include in what will be committed)\n",
      "\t.DS_Store\n",
      "\t.env\n",
      "\tbackend/.DS_Store\n",
      "\tbackend/.env\n",
      "\tbackend/__pycache__/\n",
      "\tbackend/data/.DS_Store\n",
      "\tbackend/data/recordings/.DS_Store\n",
      "\tbackend/src/__pycache__/\n",
      "\tbackend/src/prompts/__pycache__/\n",
      "\tbackend/src/vocabulary/__pycache__/\n",
      "\tbackend/src/vocabulary/general/__pycache__/\n",
      "\tbackend/src/vocabulary/specific/__pycache__/\n",
      "\tbackend/src/vocabulary/specific/check/__pycache__/\n",
      "\tbackend/tests/__pycache__/\n",
      "\texperiments/.DS_Store\n",
      "\texperiments/utils/__pycache__/\n",
      "\tfrontend/.DS_Store\n",
      "\tfrontend/.env\n",
      "\n",
      "nothing added to commit but untracked files present (use \"git add\" to track)\n",
      "\n"
     ]
    }
   ],
   "source": [
    "print(df.loc[1, 'status'])"
   ]
  }
 ],
 "metadata": {
  "kernelspec": {
   "display_name": "base",
   "language": "python",
   "name": "python3"
  },
  "language_info": {
   "codemirror_mode": {
    "name": "ipython",
    "version": 3
   },
   "file_extension": ".py",
   "mimetype": "text/x-python",
   "name": "python",
   "nbconvert_exporter": "python",
   "pygments_lexer": "ipython3",
   "version": "3.11.4"
  }
 },
 "nbformat": 4,
 "nbformat_minor": 2
}
